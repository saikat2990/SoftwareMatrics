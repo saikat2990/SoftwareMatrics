{
 "cells": [
  {
   "cell_type": "code",
   "execution_count": 12,
   "id": "decreased-split",
   "metadata": {},
   "outputs": [],
   "source": [
    "import numpy as np\n",
    "import pandas as pd\n",
    "import seaborn as sns\n",
    "from scipy import stats\n",
    "import statsmodels.api as sm\n",
    "import matplotlib.pyplot as plt\n",
    "from statsmodels.graphics.gofplots import qqplot\n",
    "from statsmodels.formula.api import ols"
   ]
  },
  {
   "cell_type": "code",
   "execution_count": 138,
   "id": "joint-encyclopedia",
   "metadata": {},
   "outputs": [
    {
     "name": "stdout",
     "output_type": "stream",
     "text": [
      "(64461, 3)\n"
     ]
    }
   ],
   "source": [
    "col_list = [\"WorkWeekHrs\",\"YearsCode\",\"ConvertedComp\"]\n",
    "data = pd.read_csv(\"H:/Software matrics/survey_results_public.csv\",usecols=col_list)\n",
    "#data = data.replace('NA', np.nan)\n",
    "data.dropna()\n",
    "#data.head\n",
    "#list(data.columns.values)\n",
    "print(data.shape)"
   ]
  },
  {
   "cell_type": "code",
   "execution_count": 111,
   "id": "found-grace",
   "metadata": {},
   "outputs": [
    {
     "data": {
      "text/plain": [
       "120000.0     341\n",
       "100000.0     306\n",
       "150000.0     277\n",
       "1000000.0    258\n",
       "2000000.0    258\n",
       "            ... \n",
       "230916.0       1\n",
       "1135.0         1\n",
       "348.0          1\n",
       "132.0          1\n",
       "44023.0        1\n",
       "Name: ConvertedComp, Length: 6958, dtype: int64"
      ]
     },
     "execution_count": 111,
     "metadata": {},
     "output_type": "execute_result"
    }
   ],
   "source": [
    "data['ConvertedComp'].value_counts()"
   ]
  },
  {
   "cell_type": "code",
   "execution_count": 134,
   "id": "junior-forge",
   "metadata": {},
   "outputs": [],
   "source": [
    "# data = data.dropna(subset=['ConvertedComp'],inplace=True)\n",
    "data = data.dropna()"
   ]
  },
  {
   "cell_type": "code",
   "execution_count": 113,
   "id": "important-fisher",
   "metadata": {},
   "outputs": [
    {
     "data": {
      "text/plain": [
       "(33549, 3)"
      ]
     },
     "execution_count": 113,
     "metadata": {},
     "output_type": "execute_result"
    }
   ],
   "source": [
    "data.shape"
   ]
  },
  {
   "cell_type": "code",
   "execution_count": null,
   "id": "centered-skating",
   "metadata": {},
   "outputs": [],
   "source": []
  },
  {
   "cell_type": "code",
   "execution_count": 129,
   "id": "hungarian-surrey",
   "metadata": {},
   "outputs": [
    {
     "data": {
      "text/plain": [
       "226885.29624346824"
      ]
     },
     "execution_count": 129,
     "metadata": {},
     "output_type": "execute_result"
    }
   ],
   "source": [
    "data['ConvertedComp'].std()"
   ]
  },
  {
   "cell_type": "code",
   "execution_count": 130,
   "id": "empty-brain",
   "metadata": {},
   "outputs": [],
   "source": [
    "maxVal = data['ConvertedComp'].max()\n",
    "minVal = data['ConvertedComp'].min()"
   ]
  },
  {
   "cell_type": "code",
   "execution_count": 131,
   "id": "comfortable-forth",
   "metadata": {},
   "outputs": [
    {
     "name": "stdout",
     "output_type": "stream",
     "text": [
      "2000000.0 0.0\n"
     ]
    }
   ],
   "source": [
    "print(maxVal,minVal)"
   ]
  },
  {
   "cell_type": "code",
   "execution_count": 6,
   "id": "satisfied-orleans",
   "metadata": {},
   "outputs": [],
   "source": []
  },
  {
   "cell_type": "code",
   "execution_count": 132,
   "id": "meaningful-velvet",
   "metadata": {},
   "outputs": [
    {
     "data": {
      "text/plain": [
       "120000.0     341\n",
       "100000.0     306\n",
       "150000.0     277\n",
       "1000000.0    258\n",
       "2000000.0    258\n",
       "            ... \n",
       "230916.0       1\n",
       "1135.0         1\n",
       "348.0          1\n",
       "132.0          1\n",
       "44023.0        1\n",
       "Name: ConvertedComp, Length: 6958, dtype: int64"
      ]
     },
     "execution_count": 132,
     "metadata": {},
     "output_type": "execute_result"
    }
   ],
   "source": [
    "data['ConvertedComp'].value_counts()"
   ]
  },
  {
   "cell_type": "code",
   "execution_count": 117,
   "id": "norman-valuable",
   "metadata": {},
   "outputs": [
    {
     "data": {
      "text/plain": [
       "33549"
      ]
     },
     "execution_count": 117,
     "metadata": {},
     "output_type": "execute_result"
    }
   ],
   "source": [
    "# ConvertedCompData = list(data['ConvertedComp'])\n",
    "# len(ConvertedCompData)"
   ]
  },
  {
   "cell_type": "code",
   "execution_count": 118,
   "id": "collective-hypothetical",
   "metadata": {},
   "outputs": [
    {
     "data": {
      "text/plain": [
       "116000.0"
      ]
     },
     "execution_count": 118,
     "metadata": {},
     "output_type": "execute_result"
    }
   ],
   "source": [
    "ConvertedCompData[0]"
   ]
  },
  {
   "cell_type": "code",
   "execution_count": 119,
   "id": "compressed-myanmar",
   "metadata": {},
   "outputs": [],
   "source": [
    "# for i in range(len(ConvertedCompData)):\n",
    "#     if(ConvertedCompData[i]<100000):\n",
    "#         ConvertedCompData[i]=1\n",
    "#     elif(ConvertedCompData[i]>=100000 and ConvertedCompData[i]<500000):\n",
    "#         ConvertedCompData[i]=2\n",
    "#     elif(ConvertedCompData[i]>=500000) :\n",
    "#         ConvertedCompData[i] = 3\n",
    "#     else:\n",
    "#         ConvertedCompData[i] = 0"
   ]
  },
  {
   "cell_type": "code",
   "execution_count": 93,
   "id": "alternative-subscriber",
   "metadata": {},
   "outputs": [
    {
     "data": {
      "text/plain": [
       "1"
      ]
     },
     "execution_count": 93,
     "metadata": {},
     "output_type": "execute_result"
    }
   ],
   "source": [
    "ConvertedCompData[123]"
   ]
  },
  {
   "cell_type": "code",
   "execution_count": 120,
   "id": "practical-honor",
   "metadata": {},
   "outputs": [],
   "source": [
    "# data.drop(['ConvertedComp'], axis=1)\n",
    "# data['ConvertedComp'] = ConvertedCompData"
   ]
  },
  {
   "cell_type": "code",
   "execution_count": 135,
   "id": "unknown-julian",
   "metadata": {},
   "outputs": [
    {
     "data": {
      "text/html": [
       "<div>\n",
       "<style scoped>\n",
       "    .dataframe tbody tr th:only-of-type {\n",
       "        vertical-align: middle;\n",
       "    }\n",
       "\n",
       "    .dataframe tbody tr th {\n",
       "        vertical-align: top;\n",
       "    }\n",
       "\n",
       "    .dataframe thead th {\n",
       "        text-align: right;\n",
       "    }\n",
       "</style>\n",
       "<table border=\"1\" class=\"dataframe\">\n",
       "  <thead>\n",
       "    <tr style=\"text-align: right;\">\n",
       "      <th></th>\n",
       "      <th>ConvertedComp</th>\n",
       "      <th>WorkWeekHrs</th>\n",
       "      <th>YearsCode</th>\n",
       "    </tr>\n",
       "  </thead>\n",
       "  <tbody>\n",
       "    <tr>\n",
       "      <th>7</th>\n",
       "      <td>116000.0</td>\n",
       "      <td>39.0</td>\n",
       "      <td>17</td>\n",
       "    </tr>\n",
       "    <tr>\n",
       "      <th>9</th>\n",
       "      <td>32315.0</td>\n",
       "      <td>36.0</td>\n",
       "      <td>8</td>\n",
       "    </tr>\n",
       "    <tr>\n",
       "      <th>10</th>\n",
       "      <td>40070.0</td>\n",
       "      <td>40.0</td>\n",
       "      <td>10</td>\n",
       "    </tr>\n",
       "    <tr>\n",
       "      <th>11</th>\n",
       "      <td>14268.0</td>\n",
       "      <td>40.0</td>\n",
       "      <td>7</td>\n",
       "    </tr>\n",
       "    <tr>\n",
       "      <th>12</th>\n",
       "      <td>38916.0</td>\n",
       "      <td>36.0</td>\n",
       "      <td>35</td>\n",
       "    </tr>\n",
       "    <tr>\n",
       "      <th>...</th>\n",
       "      <td>...</td>\n",
       "      <td>...</td>\n",
       "      <td>...</td>\n",
       "    </tr>\n",
       "    <tr>\n",
       "      <th>64141</th>\n",
       "      <td>129718.0</td>\n",
       "      <td>35.0</td>\n",
       "      <td>9</td>\n",
       "    </tr>\n",
       "    <tr>\n",
       "      <th>64142</th>\n",
       "      <td>984.0</td>\n",
       "      <td>4.0</td>\n",
       "      <td>3</td>\n",
       "    </tr>\n",
       "    <tr>\n",
       "      <th>64148</th>\n",
       "      <td>19428.0</td>\n",
       "      <td>40.0</td>\n",
       "      <td>12</td>\n",
       "    </tr>\n",
       "    <tr>\n",
       "      <th>64153</th>\n",
       "      <td>15048.0</td>\n",
       "      <td>45.0</td>\n",
       "      <td>7</td>\n",
       "    </tr>\n",
       "    <tr>\n",
       "      <th>64154</th>\n",
       "      <td>38759.0</td>\n",
       "      <td>40.0</td>\n",
       "      <td>5</td>\n",
       "    </tr>\n",
       "  </tbody>\n",
       "</table>\n",
       "<p>33549 rows × 3 columns</p>\n",
       "</div>"
      ],
      "text/plain": [
       "       ConvertedComp  WorkWeekHrs YearsCode\n",
       "7           116000.0         39.0        17\n",
       "9            32315.0         36.0         8\n",
       "10           40070.0         40.0        10\n",
       "11           14268.0         40.0         7\n",
       "12           38916.0         36.0        35\n",
       "...              ...          ...       ...\n",
       "64141       129718.0         35.0         9\n",
       "64142          984.0          4.0         3\n",
       "64148        19428.0         40.0        12\n",
       "64153        15048.0         45.0         7\n",
       "64154        38759.0         40.0         5\n",
       "\n",
       "[33549 rows x 3 columns]"
      ]
     },
     "execution_count": 135,
     "metadata": {},
     "output_type": "execute_result"
    }
   ],
   "source": [
    "data"
   ]
  },
  {
   "cell_type": "code",
   "execution_count": null,
   "id": "hybrid-disposal",
   "metadata": {},
   "outputs": [],
   "source": []
  },
  {
   "cell_type": "code",
   "execution_count": 136,
   "id": "humanitarian-bottle",
   "metadata": {},
   "outputs": [
    {
     "data": {
      "text/plain": [
       "103678.15657694715"
      ]
     },
     "execution_count": 136,
     "metadata": {},
     "output_type": "execute_result"
    }
   ],
   "source": [
    "data['ConvertedComp'].mean()"
   ]
  },
  {
   "cell_type": "code",
   "execution_count": 144,
   "id": "organic-vaccine",
   "metadata": {},
   "outputs": [
    {
     "data": {
      "text/plain": [
       " 0.071595    341\n",
       "-0.016555    306\n",
       " 0.203821    277\n",
       " 3.950207    258\n",
       "-0.171439    258\n",
       "            ... \n",
       "-0.170249      1\n",
       "-0.302867      1\n",
       "-0.454283      1\n",
       " 0.012627      1\n",
       "-0.131080      1\n",
       "Name: ConvertedComp, Length: 6958, dtype: int64"
      ]
     },
     "execution_count": 144,
     "metadata": {},
     "output_type": "execute_result"
    }
   ],
   "source": [
    "data['ConvertedComp']=(data['ConvertedComp']-data['ConvertedComp'].mean())/(data['ConvertedComp'].std())\n",
    "data['ConvertedComp'].value_counts()"
   ]
  },
  {
   "cell_type": "code",
   "execution_count": 145,
   "id": "patent-basin",
   "metadata": {},
   "outputs": [
    {
     "data": {
      "text/plain": [
       " 0.071595    341\n",
       "-0.016555    306\n",
       " 0.203821    277\n",
       " 3.950207    258\n",
       "-0.171439    258\n",
       "            ... \n",
       "-0.170249      1\n",
       "-0.302867      1\n",
       "-0.454283      1\n",
       " 0.012627      1\n",
       "-0.131080      1\n",
       "Name: ConvertedComp, Length: 6958, dtype: int64"
      ]
     },
     "execution_count": 145,
     "metadata": {},
     "output_type": "execute_result"
    }
   ],
   "source": [
    "data['ConvertedComp'].value_counts()"
   ]
  },
  {
   "cell_type": "code",
   "execution_count": 99,
   "id": "bronze-behavior",
   "metadata": {},
   "outputs": [
    {
     "name": "stderr",
     "output_type": "stream",
     "text": [
      "c:\\users\\asus\\appdata\\local\\programs\\python\\python38\\lib\\site-packages\\seaborn\\distributions.py:2557: FutureWarning: `distplot` is a deprecated function and will be removed in a future version. Please adapt your code to use either `displot` (a figure-level function with similar flexibility) or `histplot` (an axes-level function for histograms).\n",
      "  warnings.warn(msg, FutureWarning)\n"
     ]
    },
    {
     "data": {
      "text/plain": [
       "<AxesSubplot:xlabel='WorkWeekHrs', ylabel='Density'>"
      ]
     },
     "execution_count": 99,
     "metadata": {},
     "output_type": "execute_result"
    },
    {
     "data": {
      "image/png": "[encoded data removed]",
      "text/plain": [
       "<Figure size 432x288 with 1 Axes>"
      ]
     },
     "metadata": {
      "needs_background": "light"
     },
     "output_type": "display_data"
    }
   ],
   "source": [
    "sns.distplot(data['WorkWeekHrs'])"
   ]
  },
  {
   "cell_type": "code",
   "execution_count": 57,
   "id": "excess-reasoning",
   "metadata": {},
   "outputs": [
    {
     "data": {
      "image/png": "[encoded data removed]",
      "text/plain": [
       "<Figure size 432x288 with 1 Axes>"
      ]
     },
     "metadata": {
      "needs_background": "light"
     },
     "output_type": "display_data"
    }
   ],
   "source": [
    "qqplot(data['WorkWeekHrs'], line='s')\n",
    "plt.show()"
   ]
  },
  {
   "cell_type": "code",
   "execution_count": 141,
   "id": "tropical-winner",
   "metadata": {},
   "outputs": [],
   "source": [
    "years_code = data['YearsCode']\n",
    "years_code = years_code.replace('Less than 1 year',0.5)\n",
    "years_code = years_code.replace('More than 50 years',55)\n",
    "years_code = pd.to_numeric(years_code)\n",
    "years_code = years_code[years_code>0]\n",
    "data.drop(['YearsCode'], axis=1)\n",
    "data['YearsCode'] = years_code"
   ]
  },
  {
   "cell_type": "code",
   "execution_count": 103,
   "id": "divided-spectrum",
   "metadata": {},
   "outputs": [
    {
     "name": "stderr",
     "output_type": "stream",
     "text": [
      "c:\\users\\asus\\appdata\\local\\programs\\python\\python38\\lib\\site-packages\\seaborn\\distributions.py:2557: FutureWarning: `distplot` is a deprecated function and will be removed in a future version. Please adapt your code to use either `displot` (a figure-level function with similar flexibility) or `histplot` (an axes-level function for histograms).\n",
      "  warnings.warn(msg, FutureWarning)\n"
     ]
    },
    {
     "data": {
      "text/plain": [
       "<AxesSubplot:xlabel='YearsCode', ylabel='Density'>"
      ]
     },
     "execution_count": 103,
     "metadata": {},
     "output_type": "execute_result"
    },
    {
     "data": {
      "image/png": "[encoded data removed]",
      "text/plain": [
       "<Figure size 432x288 with 1 Axes>"
      ]
     },
     "metadata": {
      "needs_background": "light"
     },
     "output_type": "display_data"
    }
   ],
   "source": [
    "sns.distplot(data['YearsCode'])"
   ]
  },
  {
   "cell_type": "code",
   "execution_count": 146,
   "id": "single-bridge",
   "metadata": {},
   "outputs": [
    {
     "name": "stderr",
     "output_type": "stream",
     "text": [
      "c:\\users\\asus\\appdata\\local\\programs\\python\\python38\\lib\\site-packages\\seaborn\\distributions.py:2557: FutureWarning: `distplot` is a deprecated function and will be removed in a future version. Please adapt your code to use either `displot` (a figure-level function with similar flexibility) or `histplot` (an axes-level function for histograms).\n",
      "  warnings.warn(msg, FutureWarning)\n"
     ]
    },
    {
     "data": {
      "text/plain": [
       "<AxesSubplot:xlabel='ConvertedComp', ylabel='Density'>"
      ]
     },
     "execution_count": 146,
     "metadata": {},
     "output_type": "execute_result"
    },
    {
     "data": {
      "image/png": "[encoded data removed]",
      "text/plain": [
       "<Figure size 432x288 with 1 Axes>"
      ]
     },
     "metadata": {
      "needs_background": "light"
     },
     "output_type": "display_data"
    }
   ],
   "source": [
    "sns.distplot(data['ConvertedComp'])"
   ]
  },
  {
   "cell_type": "code",
   "execution_count": 147,
   "id": "increased-count",
   "metadata": {},
   "outputs": [
    {
     "data": {
      "text/plain": [
       "<AxesSubplot:>"
      ]
     },
     "execution_count": 147,
     "metadata": {},
     "output_type": "execute_result"
    },
    {
     "data": {
      "image/png": "[encoded data removed]",
      "text/plain": [
       "<Figure size 432x288 with 1 Axes>"
      ]
     },
     "metadata": {
      "needs_background": "light"
     },
     "output_type": "display_data"
    }
   ],
   "source": [
    "data['ConvertedComp'].hist()"
   ]
  },
  {
   "cell_type": "code",
   "execution_count": 279,
   "id": "presidential-undergraduate",
   "metadata": {},
   "outputs": [
    {
     "data": {
      "image/png": "[encoded data removed]",
      "text/plain": [
       "<Figure size 432x288 with 1 Axes>"
      ]
     },
     "metadata": {
      "needs_background": "light"
     },
     "output_type": "display_data"
    }
   ],
   "source": [
    "qqplot(data['ConvertedComp'], line='s')\n",
    "plt.show()"
   ]
  },
  {
   "cell_type": "code",
   "execution_count": 149,
   "id": "about-venue",
   "metadata": {},
   "outputs": [
    {
     "data": {
      "image/png": "[encoded data removed]",
      "text/plain": [
       "<Figure size 432x288 with 1 Axes>"
      ]
     },
     "metadata": {
      "needs_background": "light"
     },
     "output_type": "display_data"
    }
   ],
   "source": [
    "boxplot = data.boxplot(column=['WorkWeekHrs', 'YearsCode', 'ConvertedComp'])"
   ]
  },
  {
   "cell_type": "code",
   "execution_count": 150,
   "id": "honest-suspension",
   "metadata": {},
   "outputs": [
    {
     "data": {
      "text/plain": [
       "<AxesSubplot:xlabel='ConvertedComp'>"
      ]
     },
     "execution_count": 150,
     "metadata": {},
     "output_type": "execute_result"
    },
    {
     "data": {
      "image/png": "[encoded data removed]",
      "text/plain": [
       "<Figure size 432x288 with 1 Axes>"
      ]
     },
     "metadata": {
      "needs_background": "light"
     },
     "output_type": "display_data"
    }
   ],
   "source": [
    "sns.boxplot(x=data['ConvertedComp'])"
   ]
  },
  {
   "cell_type": "code",
   "execution_count": 151,
   "id": "intense-explanation",
   "metadata": {},
   "outputs": [
    {
     "name": "stdout",
     "output_type": "stream",
     "text": [
      "ConvertedComp     0.310077\n",
      "WorkWeekHrs       4.000000\n",
      "YearsCode        11.000000\n",
      "dtype: float64\n"
     ]
    }
   ],
   "source": [
    "Q1 = data.quantile(0.25)\n",
    "Q3 = data.quantile(0.75)\n",
    "IQR = Q3 - Q1\n",
    "print(IQR)"
   ]
  },
  {
   "cell_type": "code",
   "execution_count": 274,
   "id": "intimate-polymer",
   "metadata": {},
   "outputs": [
    {
     "data": {
      "text/plain": [
       "(53053, 3)"
      ]
     },
     "execution_count": 274,
     "metadata": {},
     "output_type": "execute_result"
    }
   ],
   "source": [
    "data_cal = data[~((data < (Q1 - 1.5 * IQR)) |(data > (Q3 + 1.5 * IQR))).any(axis=1)]\n",
    "data_cal.shape"
   ]
  },
  {
   "cell_type": "code",
   "execution_count": 166,
   "id": "serial-citation",
   "metadata": {},
   "outputs": [
    {
     "data": {
      "text/plain": [
       "<AxesSubplot:xlabel='ConvertedComp'>"
      ]
     },
     "execution_count": 166,
     "metadata": {},
     "output_type": "execute_result"
    },
    {
     "data": {
      "image/png": "[encoded data removed]",
      "text/plain": [
       "<Figure size 432x288 with 1 Axes>"
      ]
     },
     "metadata": {
      "needs_background": "light"
     },
     "output_type": "display_data"
    }
   ],
   "source": [
    "sns.boxplot(x=data_cal['ConvertedComp'])"
   ]
  },
  {
   "cell_type": "code",
   "execution_count": 167,
   "id": "competitive-breeding",
   "metadata": {},
   "outputs": [
    {
     "data": {
      "image/png": "[encoded data removed]",
      "text/plain": [
       "<Figure size 432x288 with 1 Axes>"
      ]
     },
     "metadata": {
      "needs_background": "light"
     },
     "output_type": "display_data"
    }
   ],
   "source": [
    "boxplot = data_cal.boxplot(column=['WorkWeekHrs', 'YearsCode', 'ConvertedComp'])"
   ]
  },
  {
   "cell_type": "code",
   "execution_count": 168,
   "id": "olive-kelly",
   "metadata": {},
   "outputs": [
    {
     "name": "stderr",
     "output_type": "stream",
     "text": [
      "c:\\users\\asus\\appdata\\local\\programs\\python\\python38\\lib\\site-packages\\seaborn\\distributions.py:2557: FutureWarning: `distplot` is a deprecated function and will be removed in a future version. Please adapt your code to use either `displot` (a figure-level function with similar flexibility) or `histplot` (an axes-level function for histograms).\n",
      "  warnings.warn(msg, FutureWarning)\n"
     ]
    },
    {
     "data": {
      "text/plain": [
       "<AxesSubplot:xlabel='ConvertedComp', ylabel='Density'>"
      ]
     },
     "execution_count": 168,
     "metadata": {},
     "output_type": "execute_result"
    },
    {
     "data": {
      "image/png": "[encoded data removed]",
      "text/plain": [
       "<Figure size 432x288 with 1 Axes>"
      ]
     },
     "metadata": {
      "needs_background": "light"
     },
     "output_type": "display_data"
    }
   ],
   "source": [
    "sns.distplot(data_cal['ConvertedComp'])"
   ]
  },
  {
   "cell_type": "code",
   "execution_count": 275,
   "id": "consistent-weekly",
   "metadata": {},
   "outputs": [
    {
     "name": "stderr",
     "output_type": "stream",
     "text": [
      "<ipython-input-275-7ae67c46491c>:2: SettingWithCopyWarning: \n",
      "A value is trying to be set on a copy of a slice from a DataFrame.\n",
      "Try using .loc[row_indexer,col_indexer] = value instead\n",
      "\n",
      "See the caveats in the documentation: https://pandas.pydata.org/pandas-docs/stable/user_guide/indexing.html#returning-a-view-versus-a-copy\n",
      "  data_cal['ConvertedComp']+=np.exp(data_cal['ConvertedComp'])\n",
      "<ipython-input-275-7ae67c46491c>:3: SettingWithCopyWarning: \n",
      "A value is trying to be set on a copy of a slice from a DataFrame.\n",
      "Try using .loc[row_indexer,col_indexer] = value instead\n",
      "\n",
      "See the caveats in the documentation: https://pandas.pydata.org/pandas-docs/stable/user_guide/indexing.html#returning-a-view-versus-a-copy\n",
      "  data_cal['ConvertedComp']+=np.log(data_cal['ConvertedComp'])\n",
      "c:\\users\\asus\\appdata\\local\\programs\\python\\python38\\lib\\site-packages\\seaborn\\distributions.py:2557: FutureWarning: `distplot` is a deprecated function and will be removed in a future version. Please adapt your code to use either `displot` (a figure-level function with similar flexibility) or `histplot` (an axes-level function for histograms).\n",
      "  warnings.warn(msg, FutureWarning)\n"
     ]
    },
    {
     "data": {
      "text/plain": [
       "<AxesSubplot:xlabel='ConvertedComp', ylabel='Density'>"
      ]
     },
     "execution_count": 275,
     "metadata": {},
     "output_type": "execute_result"
    },
    {
     "data": {
      "image/png": "[encoded data removed]",
      "text/plain": [
       "<Figure size 432x288 with 1 Axes>"
      ]
     },
     "metadata": {
      "needs_background": "light"
     },
     "output_type": "display_data"
    }
   ],
   "source": [
    "# data_cal['ConvertedComp']=data_cal['ConvertedComp']**(.5)\n",
    "data_cal['ConvertedComp']+=np.exp(data_cal['ConvertedComp'])\n",
    "data_cal['ConvertedComp']+=np.log(data_cal['ConvertedComp'])\n",
    "sns.distplot(data_cal['ConvertedComp'])"
   ]
  },
  {
   "cell_type": "code",
   "execution_count": 281,
   "id": "limiting-coordination",
   "metadata": {},
   "outputs": [
    {
     "name": "stderr",
     "output_type": "stream",
     "text": [
      "<ipython-input-281-efa3451ba964>:1: SettingWithCopyWarning: \n",
      "A value is trying to be set on a copy of a slice from a DataFrame.\n",
      "Try using .loc[row_indexer,col_indexer] = value instead\n",
      "\n",
      "See the caveats in the documentation: https://pandas.pydata.org/pandas-docs/stable/user_guide/indexing.html#returning-a-view-versus-a-copy\n",
      "  data_cal['ConvertedComp']=data_cal['ConvertedComp']**(.5)\n",
      "c:\\users\\asus\\appdata\\local\\programs\\python\\python38\\lib\\site-packages\\seaborn\\distributions.py:2557: FutureWarning: `distplot` is a deprecated function and will be removed in a future version. Please adapt your code to use either `displot` (a figure-level function with similar flexibility) or `histplot` (an axes-level function for histograms).\n",
      "  warnings.warn(msg, FutureWarning)\n"
     ]
    },
    {
     "data": {
      "text/plain": [
       "<AxesSubplot:xlabel='ConvertedComp', ylabel='Density'>"
      ]
     },
     "execution_count": 281,
     "metadata": {},
     "output_type": "execute_result"
    },
    {
     "data": {
      "image/png": "[encoded data removed]",
      "text/plain": [
       "<Figure size 432x288 with 1 Axes>"
      ]
     },
     "metadata": {
      "needs_background": "light"
     },
     "output_type": "display_data"
    }
   ],
   "source": [
    "data_cal['ConvertedComp']=data_cal['ConvertedComp']**(.5)\n",
    "sns.distplot(data_cal['ConvertedComp'])"
   ]
  },
  {
   "cell_type": "code",
   "execution_count": 271,
   "id": "reverse-player",
   "metadata": {},
   "outputs": [
    {
     "name": "stderr",
     "output_type": "stream",
     "text": [
      "c:\\users\\asus\\appdata\\local\\programs\\python\\python38\\lib\\site-packages\\statsmodels\\base\\model.py:1832: ValueWarning: covariance of constraints does not have full rank. The number of constraints is 38, but rank is 12\n",
      "  warnings.warn('covariance of constraints does not have full '\n",
      "c:\\users\\asus\\appdata\\local\\programs\\python\\python38\\lib\\site-packages\\statsmodels\\base\\model.py:1832: ValueWarning: covariance of constraints does not have full rank. The number of constraints is 33, but rank is 11\n",
      "  warnings.warn('covariance of constraints does not have full '\n",
      "c:\\users\\asus\\appdata\\local\\programs\\python\\python38\\lib\\site-packages\\statsmodels\\base\\model.py:1832: ValueWarning: covariance of constraints does not have full rank. The number of constraints is 1254, but rank is 6\n",
      "  warnings.warn('covariance of constraints does not have full '\n"
     ]
    },
    {
     "data": {
      "text/html": [
       "<div>\n",
       "<style scoped>\n",
       "    .dataframe tbody tr th:only-of-type {\n",
       "        vertical-align: middle;\n",
       "    }\n",
       "\n",
       "    .dataframe tbody tr th {\n",
       "        vertical-align: top;\n",
       "    }\n",
       "\n",
       "    .dataframe thead th {\n",
       "        text-align: right;\n",
       "    }\n",
       "</style>\n",
       "<table border=\"1\" class=\"dataframe\">\n",
       "  <thead>\n",
       "    <tr style=\"text-align: right;\">\n",
       "      <th></th>\n",
       "      <th>sum_sq</th>\n",
       "      <th>df</th>\n",
       "      <th>F</th>\n",
       "      <th>PR(&gt;F)</th>\n",
       "    </tr>\n",
       "  </thead>\n",
       "  <tbody>\n",
       "    <tr>\n",
       "      <th>C(WorkWeekHrs)</th>\n",
       "      <td>0.000003</td>\n",
       "      <td>38.0</td>\n",
       "      <td>7.836630e-08</td>\n",
       "      <td>1.000000</td>\n",
       "    </tr>\n",
       "    <tr>\n",
       "      <th>C(YearsCode)</th>\n",
       "      <td>-46.449026</td>\n",
       "      <td>33.0</td>\n",
       "      <td>-1.376464e+00</td>\n",
       "      <td>1.000000</td>\n",
       "    </tr>\n",
       "    <tr>\n",
       "      <th>C(WorkWeekHrs):C(YearsCode)</th>\n",
       "      <td>1563.187182</td>\n",
       "      <td>1254.0</td>\n",
       "      <td>1.219033e+00</td>\n",
       "      <td>0.292808</td>\n",
       "    </tr>\n",
       "    <tr>\n",
       "      <th>Residual</th>\n",
       "      <td>24967.349193</td>\n",
       "      <td>24416.0</td>\n",
       "      <td>NaN</td>\n",
       "      <td>NaN</td>\n",
       "    </tr>\n",
       "  </tbody>\n",
       "</table>\n",
       "</div>"
      ],
      "text/plain": [
       "                                   sum_sq       df             F    PR(>F)\n",
       "C(WorkWeekHrs)                   0.000003     38.0  7.836630e-08  1.000000\n",
       "C(YearsCode)                   -46.449026     33.0 -1.376464e+00  1.000000\n",
       "C(WorkWeekHrs):C(YearsCode)   1563.187182   1254.0  1.219033e+00  0.292808\n",
       "Residual                     24967.349193  24416.0           NaN       NaN"
      ]
     },
     "execution_count": 271,
     "metadata": {},
     "output_type": "execute_result"
    }
   ],
   "source": [
    "model = ols('ConvertedComp ~ C(WorkWeekHrs) + C(YearsCode) + C(WorkWeekHrs):C(YearsCode)', data=data_cal).fit()\n",
    "sm.stats.anova_lm(model, typ=2) "
   ]
  },
  {
   "cell_type": "code",
   "execution_count": null,
   "id": "loaded-inventory",
   "metadata": {},
   "outputs": [],
   "source": []
  }
 ],
 "metadata": {
  "kernelspec": {
   "display_name": "Python 3",
   "language": "python",
   "name": "python3"
  },
  "language_info": {
   "codemirror_mode": {
    "name": "ipython",
    "version": 3
   },
   "file_extension": ".py",
   "mimetype": "text/x-python",
   "name": "python",
   "nbconvert_exporter": "python",
   "pygments_lexer": "ipython3",
   "version": "3.8.5"
  }
 },
 "nbformat": 4,
 "nbformat_minor": 5
}
